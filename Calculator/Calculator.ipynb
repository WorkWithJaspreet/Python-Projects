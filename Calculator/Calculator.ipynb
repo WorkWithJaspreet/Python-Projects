{
 "cells": [
  {
   "cell_type": "code",
   "execution_count": null,
   "id": "16615698-2bf8-41ac-af50-9469a6e8bb00",
   "metadata": {},
   "outputs": [
    {
     "name": "stdout",
     "output_type": "stream",
     "text": [
      "Calculator with operators: +, -, *, /, //, %\n",
      "Select operation:\n",
      "1. Add\n",
      "2. Subtract\n",
      "3. Multiply\n",
      "4. Divide\n",
      "5. Flow divide\n",
      "6. Modulus\n",
      "7. Exit\n"
     ]
    }
   ],
   "source": [
    "# Calculator 1 addition 2 subtraction 3 multipliucation 4 division 5 flow division 6 modulo 7 incorrect input with functions\n",
    "def add(x, y):\n",
    "    return x + y\n",
    "\n",
    "def subtract(x, y):\n",
    "    return x - y\n",
    "\n",
    "def multiply(x, y):\n",
    "    return x * y\n",
    "\n",
    "def divide(x, y):\n",
    "    return x / y\n",
    "\n",
    "def flow_divide(x, y):\n",
    "    return x // y\n",
    "\n",
    "def modulus(x, y):\n",
    "    return x % y\n",
    "\n",
    "def display_menu():\n",
    "    print(\"Calculator with operators: +, -, *, /, //, %\")\n",
    "    print(\"Select operation:\")\n",
    "    print(\"1. Add\")\n",
    "    print(\"2. Subtract\")\n",
    "    print(\"3. Multiply\")\n",
    "    print(\"4. Divide\")\n",
    "    print(\"5. Flow divide\")\n",
    "    print(\"6. Modulus\")\n",
    "    print(\"7. Exit\")\n",
    "\n",
    "def get_valid_number(prompt):\n",
    "    while True:\n",
    "        num = input(prompt)\n",
    "        if num.isdigit() or (num[0] == '-' and num[1:].isdigit()):\n",
    "            return int(num)\n",
    "        else:\n",
    "            print(\"Invalid input. Please enter a valid number.\")\n",
    "\n",
    "while True:\n",
    "    display_menu()\n",
    "    choice = input(\"Enter choice (1/2/3/4/5/6/7): \")\n",
    "\n",
    "    if choice == '7':\n",
    "        print(\"Exiting the program. Goodbye!\")\n",
    "        break\n",
    "\n",
    "    if choice in ['1', '2', '3', '4', '5', '6']:\n",
    "        num1 = get_valid_number(\"Enter first number: \")\n",
    "        num2 = get_valid_number(\"Enter second number: \")\n",
    "\n",
    "        if choice == '1':\n",
    "            print(num1, \"+\", num2, \"=\", add(num1, num2))\n",
    "        elif choice == '2':\n",
    "            print(num1, \"-\", num2, \"=\", subtract(num1, num2))\n",
    "        elif choice == '3':\n",
    "            print(num1, \"*\", num2, \"=\", multiply(num1, num2))\n",
    "        elif choice == '4':\n",
    "            if num2 != 0:\n",
    "                print(num1, \"/\", num2, \"=\", divide(num1, num2))\n",
    "            else:\n",
    "                print(\"Error! Division by zero.\")\n",
    "        elif choice == '5':\n",
    "            if num2 != 0:\n",
    "                print(num1, \"//\", num2, \"=\", flow_divide(num1, num2))\n",
    "            else:\n",
    "                print(\"Error! Division by zero.\")\n",
    "        elif choice == '6':\n",
    "            print(num1, \"%\", num2, \"=\", modulus(num1, num2))\n",
    "    else:\n",
    "        print(\"Invalid input. Please enter a valid operation.\")\n"
   ]
  },
  {
   "cell_type": "code",
   "execution_count": null,
   "id": "579a0041-a39b-4d9a-b8d6-b881023b050d",
   "metadata": {},
   "outputs": [],
   "source": []
  }
 ],
 "metadata": {
  "kernelspec": {
   "display_name": "Python 3 (ipykernel)",
   "language": "python",
   "name": "python3"
  },
  "language_info": {
   "codemirror_mode": {
    "name": "ipython",
    "version": 3
   },
   "file_extension": ".py",
   "mimetype": "text/x-python",
   "name": "python",
   "nbconvert_exporter": "python",
   "pygments_lexer": "ipython3",
   "version": "3.11.7"
  }
 },
 "nbformat": 4,
 "nbformat_minor": 5
}
